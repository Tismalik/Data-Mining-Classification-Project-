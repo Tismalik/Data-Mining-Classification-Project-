{
 "cells": [
  {
   "cell_type": "markdown",
   "metadata": {},
   "source": [
    "<h1> Model to Predict which StirBank customers are more likely to respond positively to a marketing call. </h1>"
   ]
  },
  {
   "cell_type": "code",
   "execution_count": 1,
   "metadata": {},
   "outputs": [],
   "source": [
    "# load data\n",
    "import pandas as pd\n",
    "import numpy as np\n",
    "df=pd.read_csv(\"bank-tr.csv\")"
   ]
  },
  {
   "cell_type": "code",
   "execution_count": 2,
   "metadata": {},
   "outputs": [
    {
     "data": {
      "text/html": [
       "<div>\n",
       "<style scoped>\n",
       "    .dataframe tbody tr th:only-of-type {\n",
       "        vertical-align: middle;\n",
       "    }\n",
       "\n",
       "    .dataframe tbody tr th {\n",
       "        vertical-align: top;\n",
       "    }\n",
       "\n",
       "    .dataframe thead th {\n",
       "        text-align: right;\n",
       "    }\n",
       "</style>\n",
       "<table border=\"1\" class=\"dataframe\">\n",
       "  <thead>\n",
       "    <tr style=\"text-align: right;\">\n",
       "      <th></th>\n",
       "      <th>accountID</th>\n",
       "      <th>town</th>\n",
       "      <th>country</th>\n",
       "      <th>age</th>\n",
       "      <th>job</th>\n",
       "      <th>married</th>\n",
       "      <th>education</th>\n",
       "      <th>defaulted?</th>\n",
       "      <th>current_balance</th>\n",
       "      <th>housing</th>\n",
       "      <th>has_loan</th>\n",
       "      <th>last_contact</th>\n",
       "      <th>cc_tr</th>\n",
       "      <th>last_contact_day</th>\n",
       "      <th>last_contact_month</th>\n",
       "      <th>campaign</th>\n",
       "      <th>days_since_last_contact</th>\n",
       "      <th>previous</th>\n",
       "      <th>poutcome</th>\n",
       "      <th>made_deposit</th>\n",
       "    </tr>\n",
       "  </thead>\n",
       "  <tbody>\n",
       "    <tr>\n",
       "      <th>0</th>\n",
       "      <td>24634684</td>\n",
       "      <td>Crawley</td>\n",
       "      <td>UK</td>\n",
       "      <td>39</td>\n",
       "      <td>management</td>\n",
       "      <td>married</td>\n",
       "      <td>tertiary</td>\n",
       "      <td>no</td>\n",
       "      <td>-190</td>\n",
       "      <td>no</td>\n",
       "      <td>yes</td>\n",
       "      <td>unknown</td>\n",
       "      <td>1</td>\n",
       "      <td>11</td>\n",
       "      <td>jun</td>\n",
       "      <td>8</td>\n",
       "      <td>-1</td>\n",
       "      <td>0</td>\n",
       "      <td>unknown</td>\n",
       "      <td>yes</td>\n",
       "    </tr>\n",
       "    <tr>\n",
       "      <th>1</th>\n",
       "      <td>80795929</td>\n",
       "      <td>Southend-on-Sea</td>\n",
       "      <td>UK</td>\n",
       "      <td>53</td>\n",
       "      <td>housemaid</td>\n",
       "      <td>married</td>\n",
       "      <td>primary</td>\n",
       "      <td>no</td>\n",
       "      <td>362</td>\n",
       "      <td>no</td>\n",
       "      <td>no</td>\n",
       "      <td>cellular</td>\n",
       "      <td>1</td>\n",
       "      <td>28</td>\n",
       "      <td>jul</td>\n",
       "      <td>2</td>\n",
       "      <td>-1</td>\n",
       "      <td>0</td>\n",
       "      <td>unknown</td>\n",
       "      <td>yes</td>\n",
       "    </tr>\n",
       "    <tr>\n",
       "      <th>2</th>\n",
       "      <td>30786087</td>\n",
       "      <td>Gillingham</td>\n",
       "      <td>UK</td>\n",
       "      <td>79</td>\n",
       "      <td>retired</td>\n",
       "      <td>divorced</td>\n",
       "      <td>primary</td>\n",
       "      <td>no</td>\n",
       "      <td>2787</td>\n",
       "      <td>no</td>\n",
       "      <td>no</td>\n",
       "      <td>telephone</td>\n",
       "      <td>5</td>\n",
       "      <td>13</td>\n",
       "      <td>jul</td>\n",
       "      <td>1</td>\n",
       "      <td>377</td>\n",
       "      <td>1</td>\n",
       "      <td>success</td>\n",
       "      <td>yes</td>\n",
       "    </tr>\n",
       "    <tr>\n",
       "      <th>3</th>\n",
       "      <td>38925327</td>\n",
       "      <td>Gateshead</td>\n",
       "      <td>UK</td>\n",
       "      <td>43</td>\n",
       "      <td>services</td>\n",
       "      <td>single</td>\n",
       "      <td>secondary</td>\n",
       "      <td>no</td>\n",
       "      <td>550</td>\n",
       "      <td>yes</td>\n",
       "      <td>no</td>\n",
       "      <td>cellular</td>\n",
       "      <td>4</td>\n",
       "      <td>13</td>\n",
       "      <td>may</td>\n",
       "      <td>2</td>\n",
       "      <td>-1</td>\n",
       "      <td>0</td>\n",
       "      <td>unknown</td>\n",
       "      <td>no</td>\n",
       "    </tr>\n",
       "    <tr>\n",
       "      <th>4</th>\n",
       "      <td>30560733</td>\n",
       "      <td>Eastbourne</td>\n",
       "      <td>UK</td>\n",
       "      <td>35</td>\n",
       "      <td>technician</td>\n",
       "      <td>single</td>\n",
       "      <td>secondary</td>\n",
       "      <td>no</td>\n",
       "      <td>344</td>\n",
       "      <td>no</td>\n",
       "      <td>no</td>\n",
       "      <td>cellular</td>\n",
       "      <td>2</td>\n",
       "      <td>27</td>\n",
       "      <td>aug</td>\n",
       "      <td>16</td>\n",
       "      <td>-1</td>\n",
       "      <td>0</td>\n",
       "      <td>unknown</td>\n",
       "      <td>yes</td>\n",
       "    </tr>\n",
       "  </tbody>\n",
       "</table>\n",
       "</div>"
      ],
      "text/plain": [
       "   accountID             town country  age         job   married  education  \\\n",
       "0   24634684          Crawley      UK   39  management   married   tertiary   \n",
       "1   80795929  Southend-on-Sea      UK   53   housemaid   married    primary   \n",
       "2   30786087       Gillingham      UK   79     retired  divorced    primary   \n",
       "3   38925327        Gateshead      UK   43    services    single  secondary   \n",
       "4   30560733       Eastbourne      UK   35  technician    single  secondary   \n",
       "\n",
       "  defaulted?  current_balance housing has_loan last_contact  cc_tr  \\\n",
       "0         no             -190      no      yes      unknown      1   \n",
       "1         no              362      no       no     cellular      1   \n",
       "2         no             2787      no       no    telephone      5   \n",
       "3         no              550     yes       no     cellular      4   \n",
       "4         no              344      no       no     cellular      2   \n",
       "\n",
       "   last_contact_day last_contact_month  campaign  days_since_last_contact  \\\n",
       "0                11                jun         8                       -1   \n",
       "1                28                jul         2                       -1   \n",
       "2                13                jul         1                      377   \n",
       "3                13                may         2                       -1   \n",
       "4                27                aug        16                       -1   \n",
       "\n",
       "   previous poutcome made_deposit  \n",
       "0         0  unknown          yes  \n",
       "1         0  unknown          yes  \n",
       "2         1  success          yes  \n",
       "3         0  unknown           no  \n",
       "4         0  unknown          yes  "
      ]
     },
     "execution_count": 2,
     "metadata": {},
     "output_type": "execute_result"
    }
   ],
   "source": [
    "df.head(5)"
   ]
  },
  {
   "cell_type": "markdown",
   "metadata": {},
   "source": [
    "<p>From the given business understanding and problem statement I have determined it is a <b>classification problem</b> that can be solved by testing a few classification models <b>(Random Forest CLassifier, Logistic regression, Multilayer Perceptron CLassifier)</b> and evaluating which is best at predicting what class the customers will fall under\n",
    "</p>"
   ]
  },
  {
   "cell_type": "markdown",
   "metadata": {},
   "source": [
    "# Data Understanding : \n",
    " To better understand the modelling steps we need to take we need to examine our data first to understand the existing distribution underneath it."
   ]
  },
  {
   "cell_type": "code",
   "execution_count": 3,
   "metadata": {},
   "outputs": [
    {
     "data": {
      "text/html": [
       "<div>\n",
       "<style scoped>\n",
       "    .dataframe tbody tr th:only-of-type {\n",
       "        vertical-align: middle;\n",
       "    }\n",
       "\n",
       "    .dataframe tbody tr th {\n",
       "        vertical-align: top;\n",
       "    }\n",
       "\n",
       "    .dataframe thead th {\n",
       "        text-align: right;\n",
       "    }\n",
       "</style>\n",
       "<table border=\"1\" class=\"dataframe\">\n",
       "  <thead>\n",
       "    <tr style=\"text-align: right;\">\n",
       "      <th></th>\n",
       "      <th>accountID</th>\n",
       "      <th>town</th>\n",
       "      <th>country</th>\n",
       "      <th>age</th>\n",
       "      <th>job</th>\n",
       "      <th>married</th>\n",
       "      <th>education</th>\n",
       "      <th>defaulted?</th>\n",
       "      <th>current_balance</th>\n",
       "      <th>housing</th>\n",
       "      <th>has_loan</th>\n",
       "      <th>last_contact</th>\n",
       "      <th>cc_tr</th>\n",
       "      <th>last_contact_day</th>\n",
       "      <th>last_contact_month</th>\n",
       "      <th>campaign</th>\n",
       "      <th>days_since_last_contact</th>\n",
       "      <th>previous</th>\n",
       "      <th>poutcome</th>\n",
       "      <th>made_deposit</th>\n",
       "    </tr>\n",
       "  </thead>\n",
       "  <tbody>\n",
       "    <tr>\n",
       "      <th>count</th>\n",
       "      <td>8.000000e+03</td>\n",
       "      <td>8000</td>\n",
       "      <td>8000</td>\n",
       "      <td>8000.000000</td>\n",
       "      <td>8000</td>\n",
       "      <td>8000</td>\n",
       "      <td>8000</td>\n",
       "      <td>8000</td>\n",
       "      <td>8000.000000</td>\n",
       "      <td>8000</td>\n",
       "      <td>8000</td>\n",
       "      <td>8000</td>\n",
       "      <td>8000.000000</td>\n",
       "      <td>8000.00000</td>\n",
       "      <td>8000</td>\n",
       "      <td>8000.000000</td>\n",
       "      <td>8000.000000</td>\n",
       "      <td>8000.000000</td>\n",
       "      <td>8000</td>\n",
       "      <td>8000</td>\n",
       "    </tr>\n",
       "    <tr>\n",
       "      <th>unique</th>\n",
       "      <td>NaN</td>\n",
       "      <td>101</td>\n",
       "      <td>5</td>\n",
       "      <td>NaN</td>\n",
       "      <td>12</td>\n",
       "      <td>3</td>\n",
       "      <td>4</td>\n",
       "      <td>2</td>\n",
       "      <td>NaN</td>\n",
       "      <td>2</td>\n",
       "      <td>3</td>\n",
       "      <td>4</td>\n",
       "      <td>NaN</td>\n",
       "      <td>NaN</td>\n",
       "      <td>13</td>\n",
       "      <td>NaN</td>\n",
       "      <td>NaN</td>\n",
       "      <td>NaN</td>\n",
       "      <td>4</td>\n",
       "      <td>2</td>\n",
       "    </tr>\n",
       "    <tr>\n",
       "      <th>top</th>\n",
       "      <td>NaN</td>\n",
       "      <td>London</td>\n",
       "      <td>UK</td>\n",
       "      <td>NaN</td>\n",
       "      <td>management</td>\n",
       "      <td>married</td>\n",
       "      <td>secondary</td>\n",
       "      <td>no</td>\n",
       "      <td>NaN</td>\n",
       "      <td>no</td>\n",
       "      <td>no</td>\n",
       "      <td>cellular</td>\n",
       "      <td>NaN</td>\n",
       "      <td>NaN</td>\n",
       "      <td>may</td>\n",
       "      <td>NaN</td>\n",
       "      <td>NaN</td>\n",
       "      <td>NaN</td>\n",
       "      <td>unknown</td>\n",
       "      <td>no</td>\n",
       "    </tr>\n",
       "    <tr>\n",
       "      <th>freq</th>\n",
       "      <td>NaN</td>\n",
       "      <td>472</td>\n",
       "      <td>7995</td>\n",
       "      <td>NaN</td>\n",
       "      <td>1824</td>\n",
       "      <td>4557</td>\n",
       "      <td>3888</td>\n",
       "      <td>7880</td>\n",
       "      <td>NaN</td>\n",
       "      <td>4227</td>\n",
       "      <td>6964</td>\n",
       "      <td>5740</td>\n",
       "      <td>NaN</td>\n",
       "      <td>NaN</td>\n",
       "      <td>2037</td>\n",
       "      <td>NaN</td>\n",
       "      <td>NaN</td>\n",
       "      <td>NaN</td>\n",
       "      <td>5960</td>\n",
       "      <td>4172</td>\n",
       "    </tr>\n",
       "    <tr>\n",
       "      <th>mean</th>\n",
       "      <td>5.540746e+07</td>\n",
       "      <td>NaN</td>\n",
       "      <td>NaN</td>\n",
       "      <td>41.211750</td>\n",
       "      <td>NaN</td>\n",
       "      <td>NaN</td>\n",
       "      <td>NaN</td>\n",
       "      <td>NaN</td>\n",
       "      <td>1516.520500</td>\n",
       "      <td>NaN</td>\n",
       "      <td>NaN</td>\n",
       "      <td>NaN</td>\n",
       "      <td>3.011250</td>\n",
       "      <td>15.70875</td>\n",
       "      <td>NaN</td>\n",
       "      <td>2.497125</td>\n",
       "      <td>51.573375</td>\n",
       "      <td>0.840375</td>\n",
       "      <td>NaN</td>\n",
       "      <td>NaN</td>\n",
       "    </tr>\n",
       "    <tr>\n",
       "      <th>std</th>\n",
       "      <td>2.596137e+07</td>\n",
       "      <td>NaN</td>\n",
       "      <td>NaN</td>\n",
       "      <td>11.972545</td>\n",
       "      <td>NaN</td>\n",
       "      <td>NaN</td>\n",
       "      <td>NaN</td>\n",
       "      <td>NaN</td>\n",
       "      <td>3168.517624</td>\n",
       "      <td>NaN</td>\n",
       "      <td>NaN</td>\n",
       "      <td>NaN</td>\n",
       "      <td>1.419903</td>\n",
       "      <td>8.43299</td>\n",
       "      <td>NaN</td>\n",
       "      <td>2.770145</td>\n",
       "      <td>109.155207</td>\n",
       "      <td>2.371307</td>\n",
       "      <td>NaN</td>\n",
       "      <td>NaN</td>\n",
       "    </tr>\n",
       "    <tr>\n",
       "      <th>min</th>\n",
       "      <td>1.000040e+07</td>\n",
       "      <td>NaN</td>\n",
       "      <td>NaN</td>\n",
       "      <td>18.000000</td>\n",
       "      <td>NaN</td>\n",
       "      <td>NaN</td>\n",
       "      <td>NaN</td>\n",
       "      <td>NaN</td>\n",
       "      <td>-3058.000000</td>\n",
       "      <td>NaN</td>\n",
       "      <td>NaN</td>\n",
       "      <td>NaN</td>\n",
       "      <td>1.000000</td>\n",
       "      <td>1.00000</td>\n",
       "      <td>NaN</td>\n",
       "      <td>1.000000</td>\n",
       "      <td>-1.000000</td>\n",
       "      <td>0.000000</td>\n",
       "      <td>NaN</td>\n",
       "      <td>NaN</td>\n",
       "    </tr>\n",
       "    <tr>\n",
       "      <th>25%</th>\n",
       "      <td>3.305826e+07</td>\n",
       "      <td>NaN</td>\n",
       "      <td>NaN</td>\n",
       "      <td>32.000000</td>\n",
       "      <td>NaN</td>\n",
       "      <td>NaN</td>\n",
       "      <td>NaN</td>\n",
       "      <td>NaN</td>\n",
       "      <td>120.000000</td>\n",
       "      <td>NaN</td>\n",
       "      <td>NaN</td>\n",
       "      <td>NaN</td>\n",
       "      <td>2.000000</td>\n",
       "      <td>8.00000</td>\n",
       "      <td>NaN</td>\n",
       "      <td>1.000000</td>\n",
       "      <td>-1.000000</td>\n",
       "      <td>0.000000</td>\n",
       "      <td>NaN</td>\n",
       "      <td>NaN</td>\n",
       "    </tr>\n",
       "    <tr>\n",
       "      <th>50%</th>\n",
       "      <td>5.558780e+07</td>\n",
       "      <td>NaN</td>\n",
       "      <td>NaN</td>\n",
       "      <td>39.000000</td>\n",
       "      <td>NaN</td>\n",
       "      <td>NaN</td>\n",
       "      <td>NaN</td>\n",
       "      <td>NaN</td>\n",
       "      <td>545.500000</td>\n",
       "      <td>NaN</td>\n",
       "      <td>NaN</td>\n",
       "      <td>NaN</td>\n",
       "      <td>3.000000</td>\n",
       "      <td>15.00000</td>\n",
       "      <td>NaN</td>\n",
       "      <td>2.000000</td>\n",
       "      <td>-1.000000</td>\n",
       "      <td>0.000000</td>\n",
       "      <td>NaN</td>\n",
       "      <td>NaN</td>\n",
       "    </tr>\n",
       "    <tr>\n",
       "      <th>75%</th>\n",
       "      <td>7.769044e+07</td>\n",
       "      <td>NaN</td>\n",
       "      <td>NaN</td>\n",
       "      <td>49.000000</td>\n",
       "      <td>NaN</td>\n",
       "      <td>NaN</td>\n",
       "      <td>NaN</td>\n",
       "      <td>NaN</td>\n",
       "      <td>1694.000000</td>\n",
       "      <td>NaN</td>\n",
       "      <td>NaN</td>\n",
       "      <td>NaN</td>\n",
       "      <td>4.000000</td>\n",
       "      <td>22.00000</td>\n",
       "      <td>NaN</td>\n",
       "      <td>3.000000</td>\n",
       "      <td>33.250000</td>\n",
       "      <td>1.000000</td>\n",
       "      <td>NaN</td>\n",
       "      <td>NaN</td>\n",
       "    </tr>\n",
       "    <tr>\n",
       "      <th>max</th>\n",
       "      <td>9.999599e+07</td>\n",
       "      <td>NaN</td>\n",
       "      <td>NaN</td>\n",
       "      <td>93.000000</td>\n",
       "      <td>NaN</td>\n",
       "      <td>NaN</td>\n",
       "      <td>NaN</td>\n",
       "      <td>NaN</td>\n",
       "      <td>81204.000000</td>\n",
       "      <td>NaN</td>\n",
       "      <td>NaN</td>\n",
       "      <td>NaN</td>\n",
       "      <td>5.000000</td>\n",
       "      <td>31.00000</td>\n",
       "      <td>NaN</td>\n",
       "      <td>63.000000</td>\n",
       "      <td>854.000000</td>\n",
       "      <td>58.000000</td>\n",
       "      <td>NaN</td>\n",
       "      <td>NaN</td>\n",
       "    </tr>\n",
       "  </tbody>\n",
       "</table>\n",
       "</div>"
      ],
      "text/plain": [
       "           accountID    town country          age         job  married  \\\n",
       "count   8.000000e+03    8000    8000  8000.000000        8000     8000   \n",
       "unique           NaN     101       5          NaN          12        3   \n",
       "top              NaN  London      UK          NaN  management  married   \n",
       "freq             NaN     472    7995          NaN        1824     4557   \n",
       "mean    5.540746e+07     NaN     NaN    41.211750         NaN      NaN   \n",
       "std     2.596137e+07     NaN     NaN    11.972545         NaN      NaN   \n",
       "min     1.000040e+07     NaN     NaN    18.000000         NaN      NaN   \n",
       "25%     3.305826e+07     NaN     NaN    32.000000         NaN      NaN   \n",
       "50%     5.558780e+07     NaN     NaN    39.000000         NaN      NaN   \n",
       "75%     7.769044e+07     NaN     NaN    49.000000         NaN      NaN   \n",
       "max     9.999599e+07     NaN     NaN    93.000000         NaN      NaN   \n",
       "\n",
       "        education defaulted?  current_balance housing has_loan last_contact  \\\n",
       "count        8000       8000      8000.000000    8000     8000         8000   \n",
       "unique          4          2              NaN       2        3            4   \n",
       "top     secondary         no              NaN      no       no     cellular   \n",
       "freq         3888       7880              NaN    4227     6964         5740   \n",
       "mean          NaN        NaN      1516.520500     NaN      NaN          NaN   \n",
       "std           NaN        NaN      3168.517624     NaN      NaN          NaN   \n",
       "min           NaN        NaN     -3058.000000     NaN      NaN          NaN   \n",
       "25%           NaN        NaN       120.000000     NaN      NaN          NaN   \n",
       "50%           NaN        NaN       545.500000     NaN      NaN          NaN   \n",
       "75%           NaN        NaN      1694.000000     NaN      NaN          NaN   \n",
       "max           NaN        NaN     81204.000000     NaN      NaN          NaN   \n",
       "\n",
       "              cc_tr  last_contact_day last_contact_month     campaign  \\\n",
       "count   8000.000000        8000.00000               8000  8000.000000   \n",
       "unique          NaN               NaN                 13          NaN   \n",
       "top             NaN               NaN                may          NaN   \n",
       "freq            NaN               NaN               2037          NaN   \n",
       "mean       3.011250          15.70875                NaN     2.497125   \n",
       "std        1.419903           8.43299                NaN     2.770145   \n",
       "min        1.000000           1.00000                NaN     1.000000   \n",
       "25%        2.000000           8.00000                NaN     1.000000   \n",
       "50%        3.000000          15.00000                NaN     2.000000   \n",
       "75%        4.000000          22.00000                NaN     3.000000   \n",
       "max        5.000000          31.00000                NaN    63.000000   \n",
       "\n",
       "        days_since_last_contact     previous poutcome made_deposit  \n",
       "count               8000.000000  8000.000000     8000         8000  \n",
       "unique                      NaN          NaN        4            2  \n",
       "top                         NaN          NaN  unknown           no  \n",
       "freq                        NaN          NaN     5960         4172  \n",
       "mean                  51.573375     0.840375      NaN          NaN  \n",
       "std                  109.155207     2.371307      NaN          NaN  \n",
       "min                   -1.000000     0.000000      NaN          NaN  \n",
       "25%                   -1.000000     0.000000      NaN          NaN  \n",
       "50%                   -1.000000     0.000000      NaN          NaN  \n",
       "75%                   33.250000     1.000000      NaN          NaN  \n",
       "max                  854.000000    58.000000      NaN          NaN  "
      ]
     },
     "execution_count": 3,
     "metadata": {},
     "output_type": "execute_result"
    }
   ],
   "source": [
    "# data types and summary stats...\n",
    "# \"include=all\" is needed to include all columns, otherwise we'll just get stats for numeric ones\n",
    "# here, we can see that depArr has 4 values (a little suspicous); operation_mode has a mean of 1.0 std (standard deviation) of 0.0, and min/max of 1.0, so it's all 1 value.\n",
    "df.describe(include=\"all\")"
   ]
  },
  {
   "cell_type": "code",
   "execution_count": 4,
   "metadata": {},
   "outputs": [
    {
     "data": {
      "text/plain": [
       "accountID                  0\n",
       "town                       0\n",
       "country                    0\n",
       "age                        0\n",
       "job                        0\n",
       "married                    0\n",
       "education                  0\n",
       "defaulted?                 0\n",
       "current_balance            0\n",
       "housing                    0\n",
       "has_loan                   0\n",
       "last_contact               0\n",
       "cc_tr                      0\n",
       "last_contact_day           0\n",
       "last_contact_month         0\n",
       "campaign                   0\n",
       "days_since_last_contact    0\n",
       "previous                   0\n",
       "poutcome                   0\n",
       "made_deposit               0\n",
       "dtype: int64"
      ]
     },
     "execution_count": 4,
     "metadata": {},
     "output_type": "execute_result"
    }
   ],
   "source": [
    "# count the nulls/missing data in each column\n",
    "df.isnull().sum()\n",
    "\n",
    "#thus there exist no null values"
   ]
  },
  {
   "cell_type": "code",
   "execution_count": 5,
   "metadata": {},
   "outputs": [
    {
     "data": {
      "text/plain": [
       "array([[<AxesSubplot:title={'center':'accountID'}>,\n",
       "        <AxesSubplot:title={'center':'age'}>,\n",
       "        <AxesSubplot:title={'center':'current_balance'}>],\n",
       "       [<AxesSubplot:title={'center':'cc_tr'}>,\n",
       "        <AxesSubplot:title={'center':'last_contact_day'}>,\n",
       "        <AxesSubplot:title={'center':'campaign'}>],\n",
       "       [<AxesSubplot:title={'center':'days_since_last_contact'}>,\n",
       "        <AxesSubplot:title={'center':'previous'}>, <AxesSubplot:>]],\n",
       "      dtype=object)"
      ]
     },
     "execution_count": 5,
     "metadata": {},
     "output_type": "execute_result"
    },
    {
     "data": {
      "image/png": "[encoded data removed]",
      "text/plain": [
       "<Figure size 1080x1440 with 9 Axes>"
      ]
     },
     "metadata": {
      "needs_background": "light"
     },
     "output_type": "display_data"
    }
   ],
   "source": [
    "# Data understanding: Plot distributions...\n",
    "df.hist(figsize = (15,20))"
   ]
  },
  {
   "cell_type": "markdown",
   "metadata": {},
   "source": [
    "<h3> The Distribution for non-numerical variables are missing </h3>\n",
    "We can fix it like so:::"
   ]
  },
  {
   "cell_type": "code",
   "execution_count": 6,
   "metadata": {},
   "outputs": [
    {
     "name": "stdout",
     "output_type": "stream",
     "text": [
      "town\n"
     ]
    },
    {
     "data": {
      "image/png": "[encoded data removed]",
      "text/plain": [
       "<Figure size 432x288 with 1 Axes>"
      ]
     },
     "metadata": {
      "needs_background": "light"
     },
     "output_type": "display_data"
    },
    {
     "name": "stdout",
     "output_type": "stream",
     "text": [
      "country\n"
     ]
    },
    {
     "data": {
      "image/png": "[encoded data removed]",
      "text/plain": [
       "<Figure size 432x288 with 1 Axes>"
      ]
     },
     "metadata": {
      "needs_background": "light"
     },
     "output_type": "display_data"
    },
    {
     "name": "stdout",
     "output_type": "stream",
     "text": [
      "job\n"
     ]
    },
    {
     "data": {
      "image/png": "[encoded data removed]",
      "text/plain": [
       "<Figure size 432x288 with 1 Axes>"
      ]
     },
     "metadata": {
      "needs_background": "light"
     },
     "output_type": "display_data"
    },
    {
     "name": "stdout",
     "output_type": "stream",
     "text": [
      "married\n"
     ]
    },
    {
     "data": {
      "image/png": "[encoded data removed]",
      "text/plain": [
       "<Figure size 432x288 with 1 Axes>"
      ]
     },
     "metadata": {
      "needs_background": "light"
     },
     "output_type": "display_data"
    },
    {
     "name": "stdout",
     "output_type": "stream",
     "text": [
      "education\n"
     ]
    },
    {
     "data": {
      "image/png": "[encoded data removed]",
      "text/plain": [
       "<Figure size 432x288 with 1 Axes>"
      ]
     },
     "metadata": {
      "needs_background": "light"
     },
     "output_type": "display_data"
    },
    {
     "name": "stdout",
     "output_type": "stream",
     "text": [
      "defaulted?\n"
     ]
    },
    {
     "data": {
      "image/png": "[encoded data removed]",
      "text/plain": [
       "<Figure size 432x288 with 1 Axes>"
      ]
     },
     "metadata": {
      "needs_background": "light"
     },
     "output_type": "display_data"
    },
    {
     "name": "stdout",
     "output_type": "stream",
     "text": [
      "housing\n"
     ]
    },
    {
     "data": {
      "image/png": "[encoded data removed]",
      "text/plain": [
       "<Figure size 432x288 with 1 Axes>"
      ]
     },
     "metadata": {
      "needs_background": "light"
     },
     "output_type": "display_data"
    },
    {
     "name": "stdout",
     "output_type": "stream",
     "text": [
      "has_loan\n"
     ]
    },
    {
     "data": {
      "image/png": "[encoded data removed]",
      "text/plain": [
       "<Figure size 432x288 with 1 Axes>"
      ]
     },
     "metadata": {
      "needs_background": "light"
     },
     "output_type": "display_data"
    },
    {
     "name": "stdout",
     "output_type": "stream",
     "text": [
      "last_contact\n"
     ]
    },
    {
     "data": {
      "image/png": "[encoded data removed]",
      "text/plain": [
       "<Figure size 432x288 with 1 Axes>"
      ]
     },
     "metadata": {
      "needs_background": "light"
     },
     "output_type": "display_data"
    },
    {
     "name": "stdout",
     "output_type": "stream",
     "text": [
      "last_contact_month\n"
     ]
    },
    {
     "data": {
      "image/png": "[encoded data removed]",
      "text/plain": [
       "<Figure size 432x288 with 1 Axes>"
      ]
     },
     "metadata": {
      "needs_background": "light"
     },
     "output_type": "display_data"
    },
    {
     "name": "stdout",
     "output_type": "stream",
     "text": [
      "poutcome\n"
     ]
    },
    {
     "data": {
      "image/png": "[encoded data removed]",
      "text/plain": [
       "<Figure size 432x288 with 1 Axes>"
      ]
     },
     "metadata": {
      "needs_background": "light"
     },
     "output_type": "display_data"
    },
    {
     "name": "stdout",
     "output_type": "stream",
     "text": [
      "made_deposit\n"
     ]
    },
    {
     "data": {
      "image/png": "[encoded data removed]",
      "text/plain": [
       "<Figure size 432x288 with 1 Axes>"
      ]
     },
     "metadata": {
      "needs_background": "light"
     },
     "output_type": "display_data"
    }
   ],
   "source": [
    "# plot individually with syntax:\n",
    "#df['country'].value_counts().plot(kind='bar')\n",
    "\n",
    "# Or Alternatively Plot iteratively by going throught lisst of non-numeric items using:\n",
    "import matplotlib.pyplot as plt\n",
    "for col in df.select_dtypes(include=object).columns: \n",
    "    print(col)\n",
    "    df[col].value_counts().plot(kind='bar')\n",
    "    plt.show()"
   ]
  },
  {
   "cell_type": "markdown",
   "metadata": {},
   "source": [
    "# Data Preparation::\n",
    "In this phase we will go through a list of steps to clean the data and discard unnecessary rows and columns\n",
    "\n",
    "* Split our Data into Training and Test sets \n",
    "* Edit the Domain (i.e Fix/Correct wrong values or misspellings)\n",
    "* Remove unnecessary Rows\n",
    "* Select and Discard Useful columns\n",
    "* One-Hot Encode\n",
    "* Normalize the Data"
   ]
  },
  {
   "cell_type": "code",
   "execution_count": 7,
   "metadata": {},
   "outputs": [],
   "source": [
    "# Split Data into Training and test sets\n",
    "df_copy = df.copy()\n",
    "df_train = df_copy.sample(frac=0.75, random_state=0)\n",
    "df_test = df_copy.drop(df_train.index)"
   ]
  },
  {
   "cell_type": "code",
   "execution_count": 8,
   "metadata": {},
   "outputs": [
    {
     "data": {
      "text/plain": [
       "<AxesSubplot:>"
      ]
     },
     "execution_count": 8,
     "metadata": {},
     "output_type": "execute_result"
    },
    {
     "data": {
      "image/png": "[encoded data removed]",
      "text/plain": [
       "<Figure size 432x288 with 1 Axes>"
      ]
     },
     "metadata": {
      "needs_background": "light"
     },
     "output_type": "display_data"
    }
   ],
   "source": [
    "# Correct Misspellings pivot/merge complex categories e.t.c\n",
    "\n",
    "# Map job variable to employed and unemployed \n",
    "df_copy['job'] = df_copy['job'].replace({'admin.':'employed','student':'unemployed'})\n",
    "df_copy['job'] = df_copy['job'].replace({'management':'employed','Unemployed':'unemployed'})\n",
    "df_copy['job'] = df_copy['job'].replace({'blue-collar':'employed','retired':'unemployed'})\n",
    "df_copy['job'] = df_copy['job'].replace({'services':'employed','technician':'employed', 'self-employed':'employed','entrepreneur':'employed','housemaid':'employed'})\n",
    "\n",
    "# T/N to remove 'unknown' groups later on\n",
    "#df_copy['job'].value_counts().plot(kind='bar'))           #after\n",
    "\n",
    "# Correct the education variable\n",
    "df_copy['education'] = df_copy['education'].replace({'unknown':'others'})\n",
    "#df_copy['education'].value_counts().plot(kind='bar')\n",
    "\n",
    "# Correct has_loan\n",
    "df_copy['has_loan'] = df_copy['has_loan'].replace({'n':'no'})\n",
    "df_copy['has_loan'].value_counts().plot(kind='bar')\n",
    "\n",
    "# Correct last contact\n",
    "df_copy['last_contact'] = df_copy['last_contact'].replace({'unknown':'others', 'cell':'cellular'})\n",
    "df_copy['last_contact'].value_counts().plot(kind='bar')\n",
    "\n",
    "# Correct Last contact month\n",
    "df_copy['last_contact_month'] = df_copy['last_contact_month'].replace({'j':'jan'})\n",
    "df_copy['last_contact_month'].value_counts().plot(kind='bar')\n",
    "\n",
    "# correct P-outcome\n",
    "df_copy['poutcome'] = df_copy['poutcome'].replace({'unknown':'other', })\n",
    "df_copy['poutcome'].value_counts().plot(kind='bar')\n",
    "\n"
   ]
  },
  {
   "cell_type": "code",
   "execution_count": 9,
   "metadata": {},
   "outputs": [
    {
     "data": {
      "text/plain": [
       "<AxesSubplot:>"
      ]
     },
     "execution_count": 9,
     "metadata": {},
     "output_type": "execute_result"
    },
    {
     "data": {
      "image/png": "[encoded data removed]",
      "text/plain": [
       "<Figure size 432x288 with 1 Axes>"
      ]
     },
     "metadata": {
      "needs_background": "light"
     },
     "output_type": "display_data"
    }
   ],
   "source": [
    "# Remove Un-needed Rows:\n",
    "\n",
    "# Remove countries not UK\n",
    "df_copy=df_copy.loc[df_copy['country'] == 'UK']\n",
    "\n",
    "# remove unknown group in job column/feature/variable:\n",
    "df_copy=df_copy.loc[df_copy['job'] != 'unknown']\n",
    "\n",
    "df_copy['job'].value_counts().plot(kind='bar')\n"
   ]
  },
  {
   "cell_type": "code",
   "execution_count": 10,
   "metadata": {},
   "outputs": [
    {
     "data": {
      "text/html": [
       "<div>\n",
       "<style scoped>\n",
       "    .dataframe tbody tr th:only-of-type {\n",
       "        vertical-align: middle;\n",
       "    }\n",
       "\n",
       "    .dataframe tbody tr th {\n",
       "        vertical-align: top;\n",
       "    }\n",
       "\n",
       "    .dataframe thead th {\n",
       "        text-align: right;\n",
       "    }\n",
       "</style>\n",
       "<table border=\"1\" class=\"dataframe\">\n",
       "  <thead>\n",
       "    <tr style=\"text-align: right;\">\n",
       "      <th></th>\n",
       "      <th>age</th>\n",
       "      <th>job</th>\n",
       "      <th>married</th>\n",
       "      <th>education</th>\n",
       "      <th>current_balance</th>\n",
       "      <th>housing</th>\n",
       "      <th>has_loan</th>\n",
       "      <th>last_contact</th>\n",
       "      <th>last_contact_month</th>\n",
       "      <th>poutcome</th>\n",
       "    </tr>\n",
       "  </thead>\n",
       "  <tbody>\n",
       "    <tr>\n",
       "      <th>0</th>\n",
       "      <td>39</td>\n",
       "      <td>employed</td>\n",
       "      <td>married</td>\n",
       "      <td>tertiary</td>\n",
       "      <td>-190</td>\n",
       "      <td>no</td>\n",
       "      <td>yes</td>\n",
       "      <td>others</td>\n",
       "      <td>jun</td>\n",
       "      <td>other</td>\n",
       "    </tr>\n",
       "    <tr>\n",
       "      <th>1</th>\n",
       "      <td>53</td>\n",
       "      <td>employed</td>\n",
       "      <td>married</td>\n",
       "      <td>primary</td>\n",
       "      <td>362</td>\n",
       "      <td>no</td>\n",
       "      <td>no</td>\n",
       "      <td>cellular</td>\n",
       "      <td>jul</td>\n",
       "      <td>other</td>\n",
       "    </tr>\n",
       "    <tr>\n",
       "      <th>2</th>\n",
       "      <td>79</td>\n",
       "      <td>unemployed</td>\n",
       "      <td>divorced</td>\n",
       "      <td>primary</td>\n",
       "      <td>2787</td>\n",
       "      <td>no</td>\n",
       "      <td>no</td>\n",
       "      <td>telephone</td>\n",
       "      <td>jul</td>\n",
       "      <td>success</td>\n",
       "    </tr>\n",
       "    <tr>\n",
       "      <th>3</th>\n",
       "      <td>43</td>\n",
       "      <td>employed</td>\n",
       "      <td>single</td>\n",
       "      <td>secondary</td>\n",
       "      <td>550</td>\n",
       "      <td>yes</td>\n",
       "      <td>no</td>\n",
       "      <td>cellular</td>\n",
       "      <td>may</td>\n",
       "      <td>other</td>\n",
       "    </tr>\n",
       "    <tr>\n",
       "      <th>4</th>\n",
       "      <td>35</td>\n",
       "      <td>employed</td>\n",
       "      <td>single</td>\n",
       "      <td>secondary</td>\n",
       "      <td>344</td>\n",
       "      <td>no</td>\n",
       "      <td>no</td>\n",
       "      <td>cellular</td>\n",
       "      <td>aug</td>\n",
       "      <td>other</td>\n",
       "    </tr>\n",
       "    <tr>\n",
       "      <th>...</th>\n",
       "      <td>...</td>\n",
       "      <td>...</td>\n",
       "      <td>...</td>\n",
       "      <td>...</td>\n",
       "      <td>...</td>\n",
       "      <td>...</td>\n",
       "      <td>...</td>\n",
       "      <td>...</td>\n",
       "      <td>...</td>\n",
       "      <td>...</td>\n",
       "    </tr>\n",
       "    <tr>\n",
       "      <th>7995</th>\n",
       "      <td>46</td>\n",
       "      <td>employed</td>\n",
       "      <td>divorced</td>\n",
       "      <td>secondary</td>\n",
       "      <td>875</td>\n",
       "      <td>yes</td>\n",
       "      <td>yes</td>\n",
       "      <td>cellular</td>\n",
       "      <td>may</td>\n",
       "      <td>failure</td>\n",
       "    </tr>\n",
       "    <tr>\n",
       "      <th>7996</th>\n",
       "      <td>49</td>\n",
       "      <td>employed</td>\n",
       "      <td>married</td>\n",
       "      <td>tertiary</td>\n",
       "      <td>411</td>\n",
       "      <td>no</td>\n",
       "      <td>no</td>\n",
       "      <td>telephone</td>\n",
       "      <td>may</td>\n",
       "      <td>other</td>\n",
       "    </tr>\n",
       "    <tr>\n",
       "      <th>7997</th>\n",
       "      <td>42</td>\n",
       "      <td>employed</td>\n",
       "      <td>single</td>\n",
       "      <td>tertiary</td>\n",
       "      <td>-411</td>\n",
       "      <td>yes</td>\n",
       "      <td>no</td>\n",
       "      <td>cellular</td>\n",
       "      <td>jul</td>\n",
       "      <td>other</td>\n",
       "    </tr>\n",
       "    <tr>\n",
       "      <th>7998</th>\n",
       "      <td>31</td>\n",
       "      <td>employed</td>\n",
       "      <td>married</td>\n",
       "      <td>tertiary</td>\n",
       "      <td>1224</td>\n",
       "      <td>yes</td>\n",
       "      <td>yes</td>\n",
       "      <td>cellular</td>\n",
       "      <td>jul</td>\n",
       "      <td>other</td>\n",
       "    </tr>\n",
       "    <tr>\n",
       "      <th>7999</th>\n",
       "      <td>25</td>\n",
       "      <td>unemployed</td>\n",
       "      <td>single</td>\n",
       "      <td>secondary</td>\n",
       "      <td>1868</td>\n",
       "      <td>no</td>\n",
       "      <td>no</td>\n",
       "      <td>cellular</td>\n",
       "      <td>oct</td>\n",
       "      <td>other</td>\n",
       "    </tr>\n",
       "  </tbody>\n",
       "</table>\n",
       "<p>7941 rows × 10 columns</p>\n",
       "</div>"
      ],
      "text/plain": [
       "      age         job   married  education  current_balance housing has_loan  \\\n",
       "0      39    employed   married   tertiary             -190      no      yes   \n",
       "1      53    employed   married    primary              362      no       no   \n",
       "2      79  unemployed  divorced    primary             2787      no       no   \n",
       "3      43    employed    single  secondary              550     yes       no   \n",
       "4      35    employed    single  secondary              344      no       no   \n",
       "...   ...         ...       ...        ...              ...     ...      ...   \n",
       "7995   46    employed  divorced  secondary              875     yes      yes   \n",
       "7996   49    employed   married   tertiary              411      no       no   \n",
       "7997   42    employed    single   tertiary             -411     yes       no   \n",
       "7998   31    employed   married   tertiary             1224     yes      yes   \n",
       "7999   25  unemployed    single  secondary             1868      no       no   \n",
       "\n",
       "     last_contact last_contact_month poutcome  \n",
       "0          others                jun    other  \n",
       "1        cellular                jul    other  \n",
       "2       telephone                jul  success  \n",
       "3        cellular                may    other  \n",
       "4        cellular                aug    other  \n",
       "...           ...                ...      ...  \n",
       "7995     cellular                may  failure  \n",
       "7996    telephone                may    other  \n",
       "7997     cellular                jul    other  \n",
       "7998     cellular                jul    other  \n",
       "7999     cellular                oct    other  \n",
       "\n",
       "[7941 rows x 10 columns]"
      ]
     },
     "execution_count": 10,
     "metadata": {},
     "output_type": "execute_result"
    }
   ],
   "source": [
    "# Select Only Useful COlumns:\n",
    "selected_features = ['age', 'job', 'married', 'education', 'current_balance', 'housing', 'has_loan', 'last_contact', 'last_contact_month', 'poutcome']\n",
    "\n",
    "# how to use it\n",
    "df_copy[selected_features]"
   ]
  },
  {
   "cell_type": "code",
   "execution_count": 11,
   "metadata": {},
   "outputs": [
    {
     "data": {
      "text/plain": [
       "<AxesSubplot:>"
      ]
     },
     "execution_count": 11,
     "metadata": {},
     "output_type": "execute_result"
    },
    {
     "data": {
      "image/png": "[encoded data removed]",
      "text/plain": [
       "<Figure size 432x288 with 1 Axes>"
      ]
     },
     "metadata": {
      "needs_background": "light"
     },
     "output_type": "display_data"
    }
   ],
   "source": [
    "# Before We can normalise we need to trasform our categorical variable to numeric values via \"ONE hot-encoding\"\n",
    "\n",
    "    # Features with Binary categories can be manually replaced like so first:::\n",
    "\n",
    "df_copy['job'] = df_copy['job'].replace({'employed':1, 'unemployed':0})             # Job binary variable\n",
    "\n",
    "df_copy['housing'] = df_copy['housing'].replace({'yes':1, 'no':0})                  # housing binary variable\n",
    "\n",
    "df_copy['has_loan'] = df_copy['has_loan'].replace({'yes':1, 'no':0})                # has_loan binary variable\n",
    "\n",
    "\n",
    "df_copy['has_loan'].value_counts().plot(kind='bar')        #check distribution\n",
    "\n"
   ]
  },
  {
   "cell_type": "code",
   "execution_count": 12,
   "metadata": {},
   "outputs": [
    {
     "data": {
      "text/plain": [
       "array([['married', 'tertiary', 'others', 'jun', 'other'],\n",
       "       ['married', 'primary', 'cellular', 'jul', 'other'],\n",
       "       ['divorced', 'primary', 'telephone', 'jul', 'success'],\n",
       "       ...,\n",
       "       ['single', 'tertiary', 'cellular', 'jul', 'other'],\n",
       "       ['married', 'tertiary', 'cellular', 'jul', 'other'],\n",
       "       ['single', 'secondary', 'cellular', 'oct', 'other']], dtype=object)"
      ]
     },
     "execution_count": 12,
     "metadata": {},
     "output_type": "execute_result"
    }
   ],
   "source": [
    "# One Hot encoding MultiLabel Categorical Variables:\n",
    "mlab = ['married','education','last_contact','last_contact_month','poutcome']\n",
    "x_multi = df_copy[mlab].values\n",
    "x_multi"
   ]
  },
  {
   "cell_type": "code",
   "execution_count": 13,
   "metadata": {},
   "outputs": [
    {
     "name": "stdout",
     "output_type": "stream",
     "text": [
      "['married' 'married' 'divorced' ... 'single' 'married' 'single']\n",
      "others\n",
      "[['married' 'tertiary' 'others' 'jun' 'other']\n",
      " ['married' 'primary' 'cellular' 'jul' 'other']]\n",
      "[['married' 'tertiary' 'others' 'jun' 'other']\n",
      " ['married' 'primary' 'cellular' 'jul' 'other']\n",
      " ['divorced' 'primary' 'telephone' 'jul' 'success']\n",
      " ...\n",
      " ['single' 'tertiary' 'cellular' 'jul' 'other']\n",
      " ['married' 'tertiary' 'cellular' 'jul' 'other']\n",
      " ['single' 'secondary' 'cellular' 'oct' 'other']]\n"
     ]
    }
   ],
   "source": [
    "# Some Array slicing Tips\n",
    "print(x_multi[:,0]) #returns all rows of data for first column\n",
    "\n",
    "print(x_multi[0,2]) # returns 3r item on 1st row\n",
    "print(x_multi[:2])  #return all items from 1st to 2 row\n",
    "x_multi[:,4]\n",
    "print(x_multi[:,:5])"
   ]
  },
  {
   "cell_type": "markdown",
   "metadata": {},
   "source": [
    "<h2> Now back to encoding </h2>"
   ]
  },
  {
   "cell_type": "code",
   "execution_count": 14,
   "metadata": {},
   "outputs": [
    {
     "data": {
      "text/plain": [
       "array([[0., 1., 0.],\n",
       "       [0., 1., 0.],\n",
       "       [0., 0., 1.],\n",
       "       ...,\n",
       "       [0., 1., 0.],\n",
       "       [0., 1., 0.],\n",
       "       [0., 1., 0.]])"
      ]
     },
     "execution_count": 14,
     "metadata": {},
     "output_type": "execute_result"
    }
   ],
   "source": [
    "#lets talk all items in array that reps married column:\n",
    "x_multi[:,0].reshape(-1,1) #reshaping at -1,1 kinda flattens out the data into a 'single column' with 'multirow' structure\n",
    "\n",
    "#so moving on....\n",
    "from sklearn.preprocessing import OneHotEncoder\n",
    "from numpy.lib import recfunctions\n",
    "# Needed for the function to convert from structured to unstructured ndarray\n",
    "\n",
    "# Encode Married\n",
    "enc = OneHotEncoder()\n",
    "fp1 = x_multi[:,0].reshape(-1,1)\n",
    "enc.fit(fp1)\n",
    "codedfp1 = enc.transform(fp1).toarray()\n",
    "\n",
    "codedfp1\n",
    "\n",
    "# Encode Education\n",
    "enc = OneHotEncoder()\n",
    "fp2 = x_multi[:,1].reshape(-1,1)\n",
    "enc.fit(fp2)\n",
    "codedfp2 = enc.transform(fp2).toarray()\n",
    "\n",
    "codedfp2\n",
    "\n",
    "# Encode last_contact\n",
    "enc = OneHotEncoder()\n",
    "fp3 = x_multi[:,2].reshape(-1,1)\n",
    "enc.fit(fp3)\n",
    "codedfp3 = enc.transform(fp3).toarray()\n",
    "\n",
    "codedfp3\n",
    "\n",
    "# Encode last_contact_month\n",
    "enc = OneHotEncoder()\n",
    "fp4 = x_multi[:,3].reshape(-1,1)\n",
    "enc.fit(fp4)\n",
    "codedfp4 = enc.transform(fp4).toarray()\n",
    "\n",
    "codedfp4\n",
    "\n",
    "# Encode poutcom\n",
    "enc = OneHotEncoder()\n",
    "fp5 = x_multi[:,4].reshape(-1,1)\n",
    "enc.fit(fp5)\n",
    "codedfp5 = enc.transform(fp5).toarray()\n",
    "\n",
    "codedfp5"
   ]
  },
  {
   "cell_type": "markdown",
   "metadata": {},
   "source": [
    "# So...\n",
    "We've encoded out multilable categorical variables. Now, lets pool the selected numerical and binary variables into a numpy array\n",
    "WHich we can then recombine with one hot encoded array of variables     "
   ]
  },
  {
   "cell_type": "code",
   "execution_count": 15,
   "metadata": {},
   "outputs": [
    {
     "data": {
      "text/plain": [
       "array([[   1,    0,    1, -190,   39],\n",
       "       [   1,    0,    0,  362,   53],\n",
       "       [   0,    0,    0, 2787,   79],\n",
       "       ...,\n",
       "       [   1,    1,    0, -411,   42],\n",
       "       [   1,    1,    1, 1224,   31],\n",
       "       [   0,    0,    0, 1868,   25]], dtype=int64)"
      ]
     },
     "execution_count": 15,
     "metadata": {},
     "output_type": "execute_result"
    }
   ],
   "source": [
    "# Convert selected numerical and binary variable into array\n",
    "selec_num_data = df_copy[['job', 'housing', 'has_loan', 'current_balance', 'age']].values\n",
    "selec_num_data"
   ]
  },
  {
   "cell_type": "code",
   "execution_count": 16,
   "metadata": {},
   "outputs": [
    {
     "data": {
      "text/html": [
       "<div>\n",
       "<style scoped>\n",
       "    .dataframe tbody tr th:only-of-type {\n",
       "        vertical-align: middle;\n",
       "    }\n",
       "\n",
       "    .dataframe tbody tr th {\n",
       "        vertical-align: top;\n",
       "    }\n",
       "\n",
       "    .dataframe thead th {\n",
       "        text-align: right;\n",
       "    }\n",
       "</style>\n",
       "<table border=\"1\" class=\"dataframe\">\n",
       "  <thead>\n",
       "    <tr style=\"text-align: right;\">\n",
       "      <th></th>\n",
       "      <th>age</th>\n",
       "      <th>job</th>\n",
       "      <th>married</th>\n",
       "      <th>education</th>\n",
       "      <th>current_balance</th>\n",
       "      <th>housing</th>\n",
       "      <th>has_loan</th>\n",
       "      <th>last_contact</th>\n",
       "      <th>last_contact_month</th>\n",
       "      <th>poutcome</th>\n",
       "    </tr>\n",
       "  </thead>\n",
       "  <tbody>\n",
       "    <tr>\n",
       "      <th>0</th>\n",
       "      <td>39</td>\n",
       "      <td>1</td>\n",
       "      <td>married</td>\n",
       "      <td>tertiary</td>\n",
       "      <td>-190</td>\n",
       "      <td>0</td>\n",
       "      <td>1</td>\n",
       "      <td>others</td>\n",
       "      <td>jun</td>\n",
       "      <td>other</td>\n",
       "    </tr>\n",
       "    <tr>\n",
       "      <th>1</th>\n",
       "      <td>53</td>\n",
       "      <td>1</td>\n",
       "      <td>married</td>\n",
       "      <td>primary</td>\n",
       "      <td>362</td>\n",
       "      <td>0</td>\n",
       "      <td>0</td>\n",
       "      <td>cellular</td>\n",
       "      <td>jul</td>\n",
       "      <td>other</td>\n",
       "    </tr>\n",
       "    <tr>\n",
       "      <th>2</th>\n",
       "      <td>79</td>\n",
       "      <td>0</td>\n",
       "      <td>divorced</td>\n",
       "      <td>primary</td>\n",
       "      <td>2787</td>\n",
       "      <td>0</td>\n",
       "      <td>0</td>\n",
       "      <td>telephone</td>\n",
       "      <td>jul</td>\n",
       "      <td>success</td>\n",
       "    </tr>\n",
       "    <tr>\n",
       "      <th>3</th>\n",
       "      <td>43</td>\n",
       "      <td>1</td>\n",
       "      <td>single</td>\n",
       "      <td>secondary</td>\n",
       "      <td>550</td>\n",
       "      <td>1</td>\n",
       "      <td>0</td>\n",
       "      <td>cellular</td>\n",
       "      <td>may</td>\n",
       "      <td>other</td>\n",
       "    </tr>\n",
       "    <tr>\n",
       "      <th>4</th>\n",
       "      <td>35</td>\n",
       "      <td>1</td>\n",
       "      <td>single</td>\n",
       "      <td>secondary</td>\n",
       "      <td>344</td>\n",
       "      <td>0</td>\n",
       "      <td>0</td>\n",
       "      <td>cellular</td>\n",
       "      <td>aug</td>\n",
       "      <td>other</td>\n",
       "    </tr>\n",
       "  </tbody>\n",
       "</table>\n",
       "</div>"
      ],
      "text/plain": [
       "   age  job   married  education  current_balance  housing  has_loan  \\\n",
       "0   39    1   married   tertiary             -190        0         1   \n",
       "1   53    1   married    primary              362        0         0   \n",
       "2   79    0  divorced    primary             2787        0         0   \n",
       "3   43    1    single  secondary              550        1         0   \n",
       "4   35    1    single  secondary              344        0         0   \n",
       "\n",
       "  last_contact last_contact_month poutcome  \n",
       "0       others                jun    other  \n",
       "1     cellular                jul    other  \n",
       "2    telephone                jul  success  \n",
       "3     cellular                may    other  \n",
       "4     cellular                aug    other  "
      ]
     },
     "execution_count": 16,
     "metadata": {},
     "output_type": "execute_result"
    }
   ],
   "source": [
    "# Now let get a look again at all the selected feature we intend on training \n",
    "df_copy[selected_features].head(5)"
   ]
  },
  {
   "cell_type": "code",
   "execution_count": 17,
   "metadata": {},
   "outputs": [
    {
     "name": "stdout",
     "output_type": "stream",
     "text": [
      "[   0    1    0    1    0    1 -190   39]\n",
      "[   0    0    0    1    0    1    0    1    0    1 -190   39]\n",
      "[   0    1    0    0    0    0    1    0    1    0    1    0    1 -190\n",
      "   39]\n",
      "[   0    0    0    0    0    0    1    0    0    0    0    0    0    1\n",
      "    0    0    0    0    1    0    1    0    1    0    1 -190   39]\n",
      "[   0    1    0    0    0    0    0    0    0    1    0    0    0    0\n",
      "    0    0    1    0    0    0    0    1    0    1    0    1    0    1\n",
      " -190   39]\n"
     ]
    }
   ],
   "source": [
    "# Next: Now we insert the one hot encoded variables into the original data\n",
    "X_train = np.insert(selec_num_data, [0], codedfp1, axis=1)\n",
    "print(X_train[0])\n",
    "\n",
    "X_train = np.insert(X_train, [0], codedfp2, axis=1)\n",
    "print(X_train[0])\n",
    "\n",
    "X_train = np.insert(X_train, [0], codedfp3, axis=1)\n",
    "print(X_train[0])\n",
    "\n",
    "X_train = np.insert(X_train, [0], codedfp4, axis=1)\n",
    "print(X_train[0])\n",
    "\n",
    "X_train = np.insert(X_train, [0], codedfp5, axis=1)\n",
    "print(X_train[0])\n",
    "\n",
    "# Finally Now we have our X_train array of features"
   ]
  },
  {
   "cell_type": "code",
   "execution_count": 18,
   "metadata": {},
   "outputs": [
    {
     "name": "stdout",
     "output_type": "stream",
     "text": [
      "object\n",
      "int64\n"
     ]
    }
   ],
   "source": [
    "# ANd we move our target feature values in array y_train:::\n",
    "Y_train = df_copy['made_deposit'].values\n",
    "print(Y_train.dtype)\n",
    "print(X_train.dtype)\n"
   ]
  },
  {
   "cell_type": "code",
   "execution_count": 19,
   "metadata": {},
   "outputs": [],
   "source": [
    "# Normalise..... \"Now Here we wish to normalize the features in our X train Array\"\n",
    "## T/N: DO not normalise Y_train variables as we do not wish to tamper with it\n",
    "\n",
    "from sklearn.preprocessing import MinMaxScaler\n",
    "mm_scaler = MinMaxScaler()\n",
    "X_train = mm_scaler.fit_transform(X_train)\n",
    "\n",
    "\n"
   ]
  },
  {
   "cell_type": "code",
   "execution_count": 20,
   "metadata": {},
   "outputs": [
    {
     "data": {
      "text/plain": [
       "array([[0.        , 1.        , 0.        , ..., 1.        , 0.0340367 ,\n",
       "        0.28      ],\n",
       "       [0.        , 1.        , 0.        , ..., 0.        , 0.04058769,\n",
       "        0.46666667],\n",
       "       [0.        , 0.        , 1.        , ..., 0.        , 0.06936697,\n",
       "        0.81333333],\n",
       "       ...,\n",
       "       [0.        , 1.        , 0.        , ..., 0.        , 0.03141392,\n",
       "        0.32      ],\n",
       "       [0.        , 1.        , 0.        , ..., 1.        , 0.05081769,\n",
       "        0.17333333],\n",
       "       [0.        , 1.        , 0.        , ..., 0.        , 0.05846052,\n",
       "        0.09333333]])"
      ]
     },
     "execution_count": 20,
     "metadata": {},
     "output_type": "execute_result"
    }
   ],
   "source": [
    "X_train"
   ]
  },
  {
   "cell_type": "markdown",
   "metadata": {},
   "source": [
    "# Modelling:\n",
    "On to the modelling stage...\n",
    "\n",
    "First, we'll try just creating a list of different models, and looping over them, trying each on in turn."
   ]
  },
  {
   "cell_type": "code",
   "execution_count": 27,
   "metadata": {},
   "outputs": [
    {
     "name": "stderr",
     "output_type": "stream",
     "text": [
      "C:\\Users\\malik\\miniconda3\\envs\\tensor2.5\\lib\\site-packages\\sklearn\\linear_model\\_logistic.py:763: ConvergenceWarning: lbfgs failed to converge (status=1):\n",
      "STOP: TOTAL NO. of ITERATIONS REACHED LIMIT.\n",
      "\n",
      "Increase the number of iterations (max_iter) or scale the data as shown in:\n",
      "    https://scikit-learn.org/stable/modules/preprocessing.html\n",
      "Please also refer to the documentation for alternative solver options:\n",
      "    https://scikit-learn.org/stable/modules/linear_model.html#logistic-regression\n",
      "  n_iter_i = _check_optimize_result(\n",
      "C:\\Users\\malik\\miniconda3\\envs\\tensor2.5\\lib\\site-packages\\sklearn\\linear_model\\_logistic.py:763: ConvergenceWarning: lbfgs failed to converge (status=1):\n",
      "STOP: TOTAL NO. of ITERATIONS REACHED LIMIT.\n",
      "\n",
      "Increase the number of iterations (max_iter) or scale the data as shown in:\n",
      "    https://scikit-learn.org/stable/modules/preprocessing.html\n",
      "Please also refer to the documentation for alternative solver options:\n",
      "    https://scikit-learn.org/stable/modules/linear_model.html#logistic-regression\n",
      "  n_iter_i = _check_optimize_result(\n",
      "C:\\Users\\malik\\miniconda3\\envs\\tensor2.5\\lib\\site-packages\\sklearn\\linear_model\\_logistic.py:763: ConvergenceWarning: lbfgs failed to converge (status=1):\n",
      "STOP: TOTAL NO. of ITERATIONS REACHED LIMIT.\n",
      "\n",
      "Increase the number of iterations (max_iter) or scale the data as shown in:\n",
      "    https://scikit-learn.org/stable/modules/preprocessing.html\n",
      "Please also refer to the documentation for alternative solver options:\n",
      "    https://scikit-learn.org/stable/modules/linear_model.html#logistic-regression\n",
      "  n_iter_i = _check_optimize_result(\n"
     ]
    },
    {
     "name": "stdout",
     "output_type": "stream",
     "text": [
      "LR: 0.699788 (0.013063)\n",
      "MLP: 0.698654 (0.015443)\n",
      "RF: 0.672837 (0.008369)\n"
     ]
    }
   ],
   "source": [
    "from sklearn.linear_model import LogisticRegression\n",
    "from sklearn.neural_network import MLPClassifier\n",
    "from sklearn.ensemble import RandomForestClassifier\n",
    "from sklearn import model_selection\n",
    "\n",
    "# make a list of models to try...\n",
    "# you could have multiple copies of each model to try different hyperparameters here\n",
    "models = []\n",
    "models.append(('LR', LogisticRegression()))\n",
    "models.append(('MLP', MLPClassifier(solver='adam', hidden_layer_sizes=(10), max_iter=2000, activation='logistic')))\n",
    "models.append(('RF', RandomForestClassifier()))\n",
    "\n",
    "# now we loop over the models\n",
    "# this is just a standard \"for\" loop - you could extend with your own search over features or hyperparameters here\n",
    "# or replace with e.g. GridSearchCV\n",
    "\n",
    "seed = 7 # this makes the \"random\" elements of the training process predictable. You can change it to any integer value see what effect that has.\n",
    "scoring = 'accuracy' # we'll be using the r^2 cost function; you can also provide a function here if you want to customise!\n",
    "results = [] # empty list to store results in\n",
    "names = [] # empty list to store the names of the model\n",
    "\n",
    "for name, model in models:\n",
    "    kfold = model_selection.KFold(n_splits=10, shuffle=True, random_state=seed) # kFold is an object that does all the work of splitting the data repeatedly (internally it's a list of split versions of the data, in the form of train/validation pairs)\n",
    "    cv_results = model_selection.cross_val_score(model, X_train, Y_train, cv=kfold, scoring=scoring) # this takes each of the folds of the data in kFold, and trains/validates the model on them. The result is a list of scores - r2 in this case - one score for each fold.\n",
    "    results.append(cv_results) #We add this list of scores to the \"results\" list \n",
    "    names.append(name) # we add the name of the current model to the \"names\" list (each item in the names list will match the set of scores in the results list)\n",
    "    msg = \"%s: %f (%f)\" % (name, cv_results.mean(), cv_results.std()) # for the current model, print the mean and standard deviation of the scores from all folds\n",
    "    print(msg)"
   ]
  },
  {
   "cell_type": "markdown",
   "metadata": {},
   "source": [
    "<h4> Lets implement a Grid search to explore the hyperparameters on the random forest model </h4>\n"
   ]
  },
  {
   "cell_type": "code",
   "execution_count": 22,
   "metadata": {},
   "outputs": [
    {
     "data": {
      "text/plain": [
       "GridSearchCV(estimator=RandomForestClassifier(),\n",
       "             param_grid={'max_features': [2, 4, 8],\n",
       "                         'n_estimators': [50, 100, 200]})"
      ]
     },
     "execution_count": 22,
     "metadata": {},
     "output_type": "execute_result"
    }
   ],
   "source": [
    "from sklearn.model_selection import GridSearchCV\n",
    "\n",
    "rf = RandomForestClassifier()\n",
    "\n",
    "param_grid = {'n_estimators':[50, 100, 200], 'max_features':[2,4,8]}\n",
    "\n",
    "gs = GridSearchCV(rf, param_grid)\n",
    "\n",
    "gs.fit(X_train, Y_train)"
   ]
  },
  {
   "cell_type": "code",
   "execution_count": 23,
   "metadata": {},
   "outputs": [
    {
     "data": {
      "text/plain": [
       "{'mean_fit_time': array([0.32639604, 0.65099106, 1.14642591, 0.32301469, 0.62980576,\n",
       "        1.31459265, 0.57300992, 1.21500587, 2.00520148]),\n",
       " 'std_fit_time': array([0.04256513, 0.08516281, 0.06335473, 0.00731132, 0.00679906,\n",
       "        0.01951255, 0.09887653, 0.10374552, 0.06744353]),\n",
       " 'mean_score_time': array([0.02880192, 0.04401059, 0.08839908, 0.02299805, 0.04120793,\n",
       "        0.1175909 , 0.03038797, 0.05859265, 0.09961824]),\n",
       " 'std_score_time': array([0.0096199 , 0.00142109, 0.01112439, 0.00157984, 0.00149092,\n",
       "        0.05762197, 0.00926994, 0.01654658, 0.00951251]),\n",
       " 'param_max_features': masked_array(data=[2, 2, 2, 4, 4, 4, 8, 8, 8],\n",
       "              mask=[False, False, False, False, False, False, False, False,\n",
       "                    False],\n",
       "        fill_value='?',\n",
       "             dtype=object),\n",
       " 'param_n_estimators': masked_array(data=[50, 100, 200, 50, 100, 200, 50, 100, 200],\n",
       "              mask=[False, False, False, False, False, False, False, False,\n",
       "                    False],\n",
       "        fill_value='?',\n",
       "             dtype=object),\n",
       " 'params': [{'max_features': 2, 'n_estimators': 50},\n",
       "  {'max_features': 2, 'n_estimators': 100},\n",
       "  {'max_features': 2, 'n_estimators': 200},\n",
       "  {'max_features': 4, 'n_estimators': 50},\n",
       "  {'max_features': 4, 'n_estimators': 100},\n",
       "  {'max_features': 4, 'n_estimators': 200},\n",
       "  {'max_features': 8, 'n_estimators': 50},\n",
       "  {'max_features': 8, 'n_estimators': 100},\n",
       "  {'max_features': 8, 'n_estimators': 200}],\n",
       " 'split0_test_score': array([0.65827565, 0.6620516 , 0.66960352, 0.6620516 , 0.6689742 ,\n",
       "        0.65890497, 0.67275016, 0.6689742 , 0.67086218]),\n",
       " 'split1_test_score': array([0.67254408, 0.67065491, 0.6756927 , 0.66876574, 0.66939547,\n",
       "        0.6756927 , 0.67821159, 0.68010076, 0.67758186]),\n",
       " 'split2_test_score': array([0.68639798, 0.69647355, 0.68576826, 0.69710327, 0.69521411,\n",
       "        0.69269521, 0.68387909, 0.69332494, 0.69332494]),\n",
       " 'split3_test_score': array([0.68324937, 0.68073048, 0.68513854, 0.68576826, 0.68198992,\n",
       "        0.68576826, 0.68450882, 0.69206549, 0.68324937]),\n",
       " 'split4_test_score': array([0.64861461, 0.64420655, 0.64672544, 0.65302267, 0.64546599,\n",
       "        0.64924433, 0.64861461, 0.65680101, 0.65491184]),\n",
       " 'mean_test_score': array([0.66981634, 0.67082342, 0.67258569, 0.67334231, 0.67220794,\n",
       "        0.6724611 , 0.67359285, 0.67825328, 0.67598604]),\n",
       " 'std_test_score': array([0.01446056, 0.01755853, 0.01427343, 0.01600188, 0.01648314,\n",
       "        0.01624642, 0.01319788, 0.01391148, 0.01285547]),\n",
       " 'rank_test_score': array([9, 8, 5, 4, 7, 6, 3, 1, 2])}"
      ]
     },
     "execution_count": 23,
     "metadata": {},
     "output_type": "execute_result"
    }
   ],
   "source": [
    "# Explore the full set of results from the search using the syntax below:\n",
    "gs.cv_results_ "
   ]
  },
  {
   "cell_type": "code",
   "execution_count": 24,
   "metadata": {},
   "outputs": [
    {
     "name": "stdout",
     "output_type": "stream",
     "text": [
      "RandomForestClassifier(max_features=8)\n",
      "0.6782532778088655\n",
      "{'max_features': 8, 'n_estimators': 100}\n"
     ]
    }
   ],
   "source": [
    "# From that we can then obtain the best model\n",
    "bestModel = gs.best_estimator_\n",
    "print(bestModel)\n",
    "print(gs.best_score_)\n",
    "print(gs.best_params_)\n",
    "\n",
    "# you could then use bestModel in place of making a new \"rf\" further below too."
   ]
  },
  {
   "cell_type": "markdown",
   "metadata": {},
   "source": [
    "Let's try using Ramdom Search methods to tune Hyperparameter"
   ]
  },
  {
   "cell_type": "code",
   "execution_count": 25,
   "metadata": {},
   "outputs": [
    {
     "data": {
      "text/plain": [
       "RandomizedSearchCV(estimator=RandomForestClassifier(), n_iter=3,\n",
       "                   param_distributions={'max_features': [2, 4, 8],\n",
       "                                        'n_estimators': [50, 100, 200]})"
      ]
     },
     "execution_count": 25,
     "metadata": {},
     "output_type": "execute_result"
    }
   ],
   "source": [
    "from sklearn.model_selection import RandomizedSearchCV\n",
    "rs = RandomizedSearchCV(rf, param_grid, n_iter=3)\n",
    "rs.fit(X_train, Y_train)\n"
   ]
  },
  {
   "cell_type": "code",
   "execution_count": 26,
   "metadata": {},
   "outputs": [
    {
     "name": "stdout",
     "output_type": "stream",
     "text": [
      "RandomForestClassifier(max_features=8)\n",
      "0.6800157093874291\n",
      "{'n_estimators': 100, 'max_features': 8}\n"
     ]
    }
   ],
   "source": [
    "bestModel = rs.best_estimator_\n",
    "print(bestModel)\n",
    "print(rs.best_score_)\n",
    "print(rs.best_params_)"
   ]
  },
  {
   "cell_type": "markdown",
   "metadata": {},
   "source": [
    "<h3> Now having found the best model in \"Random Forest clasifier\" </h3>\n",
    "<h4> We can now </h4>\n",
    " Albeit the MLPClassifier accuracy results were quite good there still exist some elements of instablility"
   ]
  },
  {
   "cell_type": "code",
   "execution_count": 28,
   "metadata": {},
   "outputs": [
    {
     "data": {
      "text/plain": [
       "RandomForestClassifier(max_features=8)"
      ]
     },
     "execution_count": 28,
     "metadata": {},
     "output_type": "execute_result"
    }
   ],
   "source": [
    "rf = RandomForestClassifier(max_features=8, n_estimators=100)\n",
    "rf.fit(X_train, Y_train)"
   ]
  },
  {
   "cell_type": "markdown",
   "metadata": {},
   "source": [
    "# Evaluation...\n",
    " A few things worth noting here :"
   ]
  },
  {
   "cell_type": "markdown",
   "metadata": {},
   "source": [
    "* <h3> corrections and normalisation that we applied to the 'training data' also need applied to the 'test data' </h3>\n",
    "* <h3> normalisation uses the same lower/upper bounds as for the training data, by using the same mm_scaler object </h3>\n",
    "* <h3> We do not drop outliers here as in practice we might only be making predictions one at a time </h3>"
   ]
  },
  {
   "cell_type": "code",
   "execution_count": 33,
   "metadata": {},
   "outputs": [
    {
     "data": {
      "text/html": [
       "<div>\n",
       "<style scoped>\n",
       "    .dataframe tbody tr th:only-of-type {\n",
       "        vertical-align: middle;\n",
       "    }\n",
       "\n",
       "    .dataframe tbody tr th {\n",
       "        vertical-align: top;\n",
       "    }\n",
       "\n",
       "    .dataframe thead th {\n",
       "        text-align: right;\n",
       "    }\n",
       "</style>\n",
       "<table border=\"1\" class=\"dataframe\">\n",
       "  <thead>\n",
       "    <tr style=\"text-align: right;\">\n",
       "      <th></th>\n",
       "      <th>accountID</th>\n",
       "      <th>town</th>\n",
       "      <th>country</th>\n",
       "      <th>age</th>\n",
       "      <th>job</th>\n",
       "      <th>married</th>\n",
       "      <th>education</th>\n",
       "      <th>defaulted?</th>\n",
       "      <th>current_balance</th>\n",
       "      <th>housing</th>\n",
       "      <th>has_loan</th>\n",
       "      <th>last_contact</th>\n",
       "      <th>cc_tr</th>\n",
       "      <th>last_contact_day</th>\n",
       "      <th>last_contact_month</th>\n",
       "      <th>campaign</th>\n",
       "      <th>days_since_last_contact</th>\n",
       "      <th>previous</th>\n",
       "      <th>poutcome</th>\n",
       "      <th>made_deposit</th>\n",
       "    </tr>\n",
       "  </thead>\n",
       "  <tbody>\n",
       "    <tr>\n",
       "      <th>0</th>\n",
       "      <td>24634684</td>\n",
       "      <td>Crawley</td>\n",
       "      <td>UK</td>\n",
       "      <td>39</td>\n",
       "      <td>management</td>\n",
       "      <td>married</td>\n",
       "      <td>tertiary</td>\n",
       "      <td>no</td>\n",
       "      <td>-190</td>\n",
       "      <td>no</td>\n",
       "      <td>yes</td>\n",
       "      <td>unknown</td>\n",
       "      <td>1</td>\n",
       "      <td>11</td>\n",
       "      <td>jun</td>\n",
       "      <td>8</td>\n",
       "      <td>-1</td>\n",
       "      <td>0</td>\n",
       "      <td>unknown</td>\n",
       "      <td>yes</td>\n",
       "    </tr>\n",
       "    <tr>\n",
       "      <th>7</th>\n",
       "      <td>64609858</td>\n",
       "      <td>London</td>\n",
       "      <td>UK</td>\n",
       "      <td>54</td>\n",
       "      <td>self-employed</td>\n",
       "      <td>single</td>\n",
       "      <td>tertiary</td>\n",
       "      <td>no</td>\n",
       "      <td>384</td>\n",
       "      <td>no</td>\n",
       "      <td>yes</td>\n",
       "      <td>cellular</td>\n",
       "      <td>4</td>\n",
       "      <td>27</td>\n",
       "      <td>may</td>\n",
       "      <td>1</td>\n",
       "      <td>-1</td>\n",
       "      <td>0</td>\n",
       "      <td>unknown</td>\n",
       "      <td>yes</td>\n",
       "    </tr>\n",
       "    <tr>\n",
       "      <th>19</th>\n",
       "      <td>82798557</td>\n",
       "      <td>Glasgow</td>\n",
       "      <td>UK</td>\n",
       "      <td>42</td>\n",
       "      <td>admin.</td>\n",
       "      <td>married</td>\n",
       "      <td>primary</td>\n",
       "      <td>no</td>\n",
       "      <td>1547</td>\n",
       "      <td>yes</td>\n",
       "      <td>yes</td>\n",
       "      <td>unknown</td>\n",
       "      <td>5</td>\n",
       "      <td>27</td>\n",
       "      <td>may</td>\n",
       "      <td>3</td>\n",
       "      <td>-1</td>\n",
       "      <td>0</td>\n",
       "      <td>unknown</td>\n",
       "      <td>no</td>\n",
       "    </tr>\n",
       "    <tr>\n",
       "      <th>21</th>\n",
       "      <td>15829584</td>\n",
       "      <td>Dundee</td>\n",
       "      <td>UK</td>\n",
       "      <td>66</td>\n",
       "      <td>management</td>\n",
       "      <td>married</td>\n",
       "      <td>secondary</td>\n",
       "      <td>no</td>\n",
       "      <td>587</td>\n",
       "      <td>no</td>\n",
       "      <td>no</td>\n",
       "      <td>cellular</td>\n",
       "      <td>3</td>\n",
       "      <td>12</td>\n",
       "      <td>may</td>\n",
       "      <td>2</td>\n",
       "      <td>392</td>\n",
       "      <td>2</td>\n",
       "      <td>success</td>\n",
       "      <td>yes</td>\n",
       "    </tr>\n",
       "    <tr>\n",
       "      <th>24</th>\n",
       "      <td>55054208</td>\n",
       "      <td>Nottingham</td>\n",
       "      <td>UK</td>\n",
       "      <td>55</td>\n",
       "      <td>admin.</td>\n",
       "      <td>married</td>\n",
       "      <td>secondary</td>\n",
       "      <td>no</td>\n",
       "      <td>602</td>\n",
       "      <td>no</td>\n",
       "      <td>no</td>\n",
       "      <td>cellular</td>\n",
       "      <td>3</td>\n",
       "      <td>4</td>\n",
       "      <td>feb</td>\n",
       "      <td>2</td>\n",
       "      <td>150</td>\n",
       "      <td>6</td>\n",
       "      <td>success</td>\n",
       "      <td>yes</td>\n",
       "    </tr>\n",
       "  </tbody>\n",
       "</table>\n",
       "</div>"
      ],
      "text/plain": [
       "    accountID        town country  age            job  married  education  \\\n",
       "0    24634684     Crawley      UK   39     management  married   tertiary   \n",
       "7    64609858      London      UK   54  self-employed   single   tertiary   \n",
       "19   82798557     Glasgow      UK   42         admin.  married    primary   \n",
       "21   15829584      Dundee      UK   66     management  married  secondary   \n",
       "24   55054208  Nottingham      UK   55         admin.  married  secondary   \n",
       "\n",
       "   defaulted?  current_balance housing has_loan last_contact  cc_tr  \\\n",
       "0          no             -190      no      yes      unknown      1   \n",
       "7          no              384      no      yes     cellular      4   \n",
       "19         no             1547     yes      yes      unknown      5   \n",
       "21         no              587      no       no     cellular      3   \n",
       "24         no              602      no       no     cellular      3   \n",
       "\n",
       "    last_contact_day last_contact_month  campaign  days_since_last_contact  \\\n",
       "0                 11                jun         8                       -1   \n",
       "7                 27                may         1                       -1   \n",
       "19                27                may         3                       -1   \n",
       "21                12                may         2                      392   \n",
       "24                 4                feb         2                      150   \n",
       "\n",
       "    previous poutcome made_deposit  \n",
       "0          0  unknown          yes  \n",
       "7          0  unknown          yes  \n",
       "19         0  unknown           no  \n",
       "21         2  success          yes  \n",
       "24         6  success          yes  "
      ]
     },
     "execution_count": 33,
     "metadata": {},
     "output_type": "execute_result"
    }
   ],
   "source": [
    "df_test.head(5)"
   ]
  },
  {
   "cell_type": "code",
   "execution_count": 41,
   "metadata": {},
   "outputs": [
    {
     "data": {
      "text/plain": [
       "<AxesSubplot:>"
      ]
     },
     "execution_count": 41,
     "metadata": {},
     "output_type": "execute_result"
    },
    {
     "data": {
      "image/png": "[encoded data removed]",
      "text/plain": [
       "<Figure size 432x288 with 1 Axes>"
      ]
     },
     "metadata": {
      "needs_background": "light"
     },
     "output_type": "display_data"
    }
   ],
   "source": [
    "# Correct Misspellings pivot/merge complex categories e.t.c\n",
    "\n",
    "# Map job variable to employed and unemployed \n",
    "df_test['job'] = df_test['job'].replace({'admin.':'employed','student':'unemployed'})\n",
    "df_test['job'] = df_test['job'].replace({'management':'employed','Unemployed':'unemployed'})\n",
    "df_test['job'] = df_test['job'].replace({'blue-collar':'employed','retired':'unemployed'})\n",
    "df_test['job'] = df_test['job'].replace({'services':'employed','technician':'employed', 'self-employed':'employed','entrepreneur':'employed','housemaid':'employed'})\n",
    "\n",
    "# T/N to remove 'unknown' groups later on\n",
    "#df_test['job'].value_counts().plot(kind='bar'))           #after\n",
    "\n",
    "# Correct the education variable\n",
    "df_test['education'] = df_test['education'].replace({'unknown':'others'})\n",
    "df_test['education'].value_counts().plot(kind='bar')\n",
    "\n",
    "# Correct has_loan\n",
    "df_test['has_loan'] = df_test['has_loan'].replace({'n':'no'})\n",
    "df_test['has_loan'].value_counts().plot(kind='bar')\n",
    "\n",
    "# Correct last contact\n",
    "df_test['last_contact'] = df_test['last_contact'].replace({'unknown':'others', 'cell':'cellular'})\n",
    "df_test['last_contact'].value_counts().plot(kind='bar')\n",
    "\n",
    "# Correct Last contact month\n",
    "df_test['last_contact_month'] = df_test['last_contact_month'].replace({'j':'jan'})\n",
    "df_test['last_contact_month'].value_counts().plot(kind='bar')\n",
    "\n",
    "# correct P-outcome\n",
    "df_test['poutcome'] = df_test['poutcome'].replace({'unknown':'other', })\n",
    "df_test['poutcome'].value_counts().plot(kind='bar')\n",
    "\n"
   ]
  },
  {
   "cell_type": "code",
   "execution_count": 42,
   "metadata": {},
   "outputs": [
    {
     "name": "stdout",
     "output_type": "stream",
     "text": [
      "[   0    1    0    1    0    1 -190   39]\n",
      "[   0    0    0    1    0    1    0    1    0    1 -190   39]\n",
      "[   0    1    0    0    0    0    1    0    1    0    1    0    1 -190\n",
      "   39]\n",
      "[   0    0    0    0    0    0    1    0    0    0    0    0    0    1\n",
      "    0    0    0    0    1    0    1    0    1    0    1 -190   39]\n",
      "[   0    1    0    0    0    0    0    0    0    1    0    0    0    0\n",
      "    0    0    1    0    0    0    0    1    0    1    0    1    0    1\n",
      " -190   39]\n"
     ]
    },
    {
     "data": {
      "image/png": "[encoded data removed]",
      "text/plain": [
       "<Figure size 432x288 with 1 Axes>"
      ]
     },
     "metadata": {
      "needs_background": "light"
     },
     "output_type": "display_data"
    }
   ],
   "source": [
    "\n",
    "# Testtttt\n",
    "# Remove Un-needed Rows:\n",
    "\n",
    "# Remove countries not UK\n",
    "df_test=df_test.loc[df_test['country'] == 'UK']\n",
    "\n",
    "# remove unknown group in job column/feature/variable:\n",
    "df_test=df_test.loc[df_test['job'] != 'unknown']\n",
    "\n",
    "df_test['job'].value_counts().plot(kind='bar')\n",
    "\n",
    "# Before We can normalise we need to trasform our categorical variable to numeric values via \"ONE hot-encoding\"\n",
    "\n",
    "    # Features with Binary categories can be manually replaced like so first:::\n",
    "\n",
    "df_test['job'] = df_test['job'].replace({'employed':1, 'unemployed':0})             # Job binary variable\n",
    "\n",
    "df_test['housing'] = df_test['housing'].replace({'yes':1, 'no':0})                  # housing binary variable\n",
    "\n",
    "df_test['has_loan'] = df_test['has_loan'].replace({'yes':1, 'no':0})                # has_loan binary variable\n",
    "\n",
    "\n",
    "df_test['has_loan'].value_counts().plot(kind='bar')        #check distribution\n",
    "\n",
    "mlab = ['married','education','last_contact','last_contact_month','poutcome']\n",
    "x_multi = df_test[mlab].values\n",
    "x_multi\n",
    "\n",
    "#lets talk all items in array that reps married column:\n",
    "x_multi[:,0].reshape(-1,1) #reshaping at -1,1 kinda flattens out the data into a 'single column' with 'multirow' structure\n",
    "\n",
    "#so moving on....\n",
    "from sklearn.preprocessing import OneHotEncoder\n",
    "from numpy.lib import recfunctions\n",
    "# Needed for the function to convert from structured to unstructured ndarray\n",
    "\n",
    "# Encode Married\n",
    "enc = OneHotEncoder()\n",
    "fp1 = x_multi[:,0].reshape(-1,1)\n",
    "enc.fit(fp1)\n",
    "codedfp1 = enc.transform(fp1).toarray()\n",
    "\n",
    "codedfp1\n",
    "\n",
    "# Encode Education\n",
    "enc = OneHotEncoder()\n",
    "fp2 = x_multi[:,1].reshape(-1,1)\n",
    "enc.fit(fp2)\n",
    "codedfp2 = enc.transform(fp2).toarray()\n",
    "\n",
    "codedfp2\n",
    "\n",
    "# Encode last_contact\n",
    "enc = OneHotEncoder()\n",
    "fp3 = x_multi[:,2].reshape(-1,1)\n",
    "enc.fit(fp3)\n",
    "codedfp3 = enc.transform(fp3).toarray()\n",
    "\n",
    "codedfp3\n",
    "\n",
    "# Encode last_contact_month\n",
    "enc = OneHotEncoder()\n",
    "fp4 = x_multi[:,3].reshape(-1,1)\n",
    "enc.fit(fp4)\n",
    "codedfp4 = enc.transform(fp4).toarray()\n",
    "\n",
    "codedfp4\n",
    "\n",
    "# Encode poutcom\n",
    "enc = OneHotEncoder()\n",
    "fp5 = x_multi[:,4].reshape(-1,1)\n",
    "enc.fit(fp5)\n",
    "codedfp5 = enc.transform(fp5).toarray()\n",
    "\n",
    "codedfp5\n",
    "\n",
    "# Convert selected numerical and binary variable into array\n",
    "selec_num_data = df_test[['job', 'housing', 'has_loan', 'current_balance', 'age']].values\n",
    "selec_num_data\n",
    "\n",
    "\n",
    "X_test = np.insert(selec_num_data, [0], codedfp1, axis=1)\n",
    "print(X_test[0])\n",
    "\n",
    "X_test = np.insert(X_test, [0], codedfp2, axis=1)\n",
    "print(X_test[0])\n",
    "\n",
    "X_test = np.insert(X_test, [0], codedfp3, axis=1)\n",
    "print(X_test[0])\n",
    "\n",
    "X_test = np.insert(X_test, [0], codedfp4, axis=1)\n",
    "print(X_test[0])\n",
    "\n",
    "X_test = np.insert(X_test, [0], codedfp5, axis=1)\n",
    "print(X_test[0])\n",
    "\n",
    "from sklearn.preprocessing import MinMaxScaler\n",
    "mm_scaler = MinMaxScaler()\n",
    "X_test = mm_scaler.fit_transform(X_test)\n",
    "X_test\n",
    "\n",
    "Y_test = df_test['made_deposit'].values    \n"
   ]
  },
  {
   "cell_type": "markdown",
   "metadata": {},
   "source": [
    "# Application COmpleted....."
   ]
  },
  {
   "cell_type": "code",
   "execution_count": 43,
   "metadata": {},
   "outputs": [],
   "source": [
    "# Now that  the steps taken on the Training Data have  been applied to the test set \n",
    "# Lets predict the Test data outcome using our model\n",
    "Y_pred = rf.predict(X_test)"
   ]
  },
  {
   "cell_type": "code",
   "execution_count": 61,
   "metadata": {},
   "outputs": [
    {
     "data": {
      "text/plain": [
       "array(['yes', 'yes', 'no', ..., 'yes', 'no', 'no'], dtype=object)"
      ]
     },
     "execution_count": 61,
     "metadata": {},
     "output_type": "execute_result"
    }
   ],
   "source": [
    "Y_pred\n",
    "Y_test"
   ]
  },
  {
   "cell_type": "code",
   "execution_count": 62,
   "metadata": {},
   "outputs": [
    {
     "name": "stdout",
     "output_type": "stream",
     "text": [
      "AccuracyScore: 0.7586726998491704\n"
     ]
    },
    {
     "data": {
      "text/plain": [
       "'Confusion Matrix'"
      ]
     },
     "metadata": {},
     "output_type": "display_data"
    },
    {
     "data": {
      "text/plain": [
       "array([[860, 206],\n",
       "       [274, 649]], dtype=int64)"
      ]
     },
     "metadata": {},
     "output_type": "display_data"
    }
   ],
   "source": [
    "# How Close Are the predictions: 'Confusion Matrix'\n",
    "from sklearn import metrics\n",
    "from IPython.display import display\n",
    "from sklearn.metrics import accuracy_score\n",
    "Y_pred\n",
    "Y_test\n",
    "print(\"AccuracyScore:\",accuracy_score(Y_test, Y_pred))\n",
    "\n",
    "display('Confusion Matrix',metrics.confusion_matrix(Y_test, Y_pred))\n",
    "\n",
    "#print(\"Precision Score:\", metrics.precision_score(Y_test, Y_pred))\n",
    "\n",
    "#print('F1 Score:', metrics.f1_score(Y_test, Y_pred, average='binary'))\n",
    "\n"
   ]
  },
  {
   "cell_type": "code",
   "execution_count": null,
   "metadata": {},
   "outputs": [],
   "source": []
  }
 ],
 "metadata": {
  "interpreter": {
   "hash": "035b9c71e4a3a67db39a7728b05f0df5cc8b8760f61dc7a461f1625dbaae32b6"
  },
  "kernelspec": {
   "display_name": "Python 3.9.5 64-bit ('tensor2.5': conda)",
   "language": "python",
   "name": "python3"
  },
  "language_info": {
   "codemirror_mode": {
    "name": "ipython",
    "version": 3
   },
   "file_extension": ".py",
   "mimetype": "text/x-python",
   "name": "python",
   "nbconvert_exporter": "python",
   "pygments_lexer": "ipython3",
   "version": "3.9.5"
  },
  "orig_nbformat": 4
 },
 "nbformat": 4,
 "nbformat_minor": 2
}
